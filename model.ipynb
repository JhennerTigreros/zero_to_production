{
 "cells": [
  {
   "cell_type": "code",
   "execution_count": 1,
   "metadata": {},
   "outputs": [
    {
     "name": "stderr",
     "output_type": "stream",
     "text": [
      "2021-09-15 19:31:29.705779: W tensorflow/stream_executor/platform/default/dso_loader.cc:64] Could not load dynamic library 'libcudart.so.11.0'; dlerror: libcudart.so.11.0: cannot open shared object file: No such file or directory\n",
      "2021-09-15 19:31:29.705874: I tensorflow/stream_executor/cuda/cudart_stub.cc:29] Ignore above cudart dlerror if you do not have a GPU set up on your machine.\n"
     ]
    }
   ],
   "source": [
    "import matplotlib.pyplot as plt\n",
    "import numpy as np\n",
    "import os\n",
    "import PIL\n",
    "import tensorflow as tf\n",
    "\n",
    "from tensorflow import keras\n",
    "from tensorflow.keras import layers\n",
    "from tensorflow.keras.models import Sequential\n",
    "import pathlib"
   ]
  },
  {
   "cell_type": "code",
   "execution_count": 2,
   "metadata": {},
   "outputs": [],
   "source": [
    "BATCH_SIZE = 32\n",
    "IMG_HEIGHT = 180\n",
    "IMG_WIDTH = 180\n",
    "SPLIT = 0.2\n",
    "CLASS_NUMBER = 5\n",
    "EPOCHS = 10"
   ]
  },
  {
   "cell_type": "code",
   "execution_count": 3,
   "metadata": {},
   "outputs": [],
   "source": [
    "def download_dataset(url, dir_name):\n",
    "    data_dir = tf.keras.utils.get_file(dir_name, origin=url, untar=True)\n",
    "    return pathlib.Path(data_dir)"
   ]
  },
  {
   "cell_type": "code",
   "execution_count": 4,
   "metadata": {},
   "outputs": [],
   "source": [
    "def load_dataset(path):\n",
    "    AUTOTUNE = tf.data.experimental.AUTOTUNE\n",
    "    \n",
    "    train = tf.keras.preprocessing.image_dataset_from_directory(\n",
    "        path,\n",
    "        validation_split = SPLIT,\n",
    "        subset = 'training',\n",
    "        seed = 123,\n",
    "        image_size = (IMG_HEIGHT, IMG_WIDTH),\n",
    "        batch_size = BATCH_SIZE\n",
    "    )\n",
    "    \n",
    "    validation = tf.keras.preprocessing.image_dataset_from_directory(\n",
    "        path,\n",
    "        validation_split = SPLIT,\n",
    "        subset = 'validation',\n",
    "        seed = 123,\n",
    "        image_size = (IMG_HEIGHT, IMG_WIDTH),\n",
    "        batch_size = BATCH_SIZE\n",
    "    )\n",
    "    \n",
    "    train = train.cache().shuffle(1000).prefetch(buffer_size = AUTOTUNE)\n",
    "    validation = validation.cache().prefetch(buffer_size = AUTOTUNE)\n",
    "    \n",
    "    return train, validation"
   ]
  },
  {
   "cell_type": "code",
   "execution_count": 5,
   "metadata": {},
   "outputs": [],
   "source": [
    "def normalization(train_dataset):\n",
    "    normalization_layer = layers.experimental.preprocessing.Rescaling(1. / 255)\n",
    "    normalized_dataset = train_dataset.map(lambda x, y: (normalization_layer(x), y))\n",
    "    image_batch, labels_batch = next(iter(normalized_dataset))\n",
    "    \n",
    "    return image_batch, labels_batch"
   ]
  },
  {
   "cell_type": "code",
   "execution_count": 6,
   "metadata": {},
   "outputs": [],
   "source": [
    "class ImageClassifier(tf.keras.Model):\n",
    "    def __init__(self, num_classes = CLASS_NUMBER, units = 128, padding = 'same', activation = 'relu', flip = 'horizontal', rotation = 0.1, zoom = 0.1, dropout = 0.2):\n",
    "        super(ImageClassifier, self).__init__()\n",
    "        self.random_flip = layers.experimental.preprocessing.RandomFlip(flip,\n",
    "                                                                       input_shape = (IMG_HEIGHT, \n",
    "                                                                                      IMG_WIDTH, \n",
    "                                                                                      3))\n",
    "        self.random_rotation = layers.experimental.preprocessing.RandomRotation(rotation)\n",
    "        self.random_zoom = layers.experimental.preprocessing.RandomZoom(zoom)\n",
    "        self.normalization = layers.experimental.preprocessing.Rescaling(1. / 255, input_shape = (IMG_HEIGHT, IMG_WIDTH, 3))\n",
    "        self.conv2d_1 = layers.Conv2D(16, 3, padding = padding, activation = activation)\n",
    "        self.conv2d_2 = layers.Conv2D(32, 3, padding = padding, activation = activation)\n",
    "        self.conv2d_3 = layers.Conv2D(64, 3, padding = padding, activation = activation)\n",
    "        self.max_pooling2d = layers.MaxPooling2D()\n",
    "        self.dropout = layers.Dropout(dropout)\n",
    "        self.flatten = layers.Flatten()\n",
    "        self.dense_1 = layers.Dense(units, activation = activation)\n",
    "        self.dense_2 = layers.Dense(num_classes)\n",
    "        \n",
    "    def call(self, inputs, training = False):\n",
    "        x = self.random_flip(inputs)\n",
    "        x = self.random_rotation(x)\n",
    "        x = self.random_zoom(x)\n",
    "        x = self.normalization(x)\n",
    "        x = self.conv2d_1(x)\n",
    "        x = self.max_pooling2d(x)\n",
    "        x = self.conv2d_2(x)\n",
    "        x = self.max_pooling2d(x)\n",
    "        x = self.conv2d_3(x)\n",
    "        x = self.max_pooling2d(x)\n",
    "        x = self.dropout(x, training = training)\n",
    "        x = self.flatten(x)\n",
    "        x = self.dense_1(x)\n",
    "        output = self.dense_2(x)\n",
    "        \n",
    "        return output"
   ]
  },
  {
   "cell_type": "code",
   "execution_count": 7,
   "metadata": {},
   "outputs": [
    {
     "name": "stderr",
     "output_type": "stream",
     "text": [
      "2021-09-15 19:32:15.071227: W tensorflow/stream_executor/platform/default/dso_loader.cc:64] Could not load dynamic library 'libcuda.so.1'; dlerror: libcuda.so.1: cannot open shared object file: No such file or directory\n",
      "2021-09-15 19:32:15.071285: W tensorflow/stream_executor/cuda/cuda_driver.cc:269] failed call to cuInit: UNKNOWN ERROR (303)\n",
      "2021-09-15 19:32:15.072576: I tensorflow/stream_executor/cuda/cuda_diagnostics.cc:156] kernel driver does not appear to be running on this host (LAPTOP-AHFU3H7F): /proc/driver/nvidia/version does not exist\n",
      "2021-09-15 19:32:15.092934: I tensorflow/core/platform/cpu_feature_guard.cc:142] This TensorFlow binary is optimized with oneAPI Deep Neural Network Library (oneDNN) to use the following CPU instructions in performance-critical operations:  AVX2 FMA\n",
      "To enable them in other operations, rebuild TensorFlow with the appropriate compiler flags.\n"
     ]
    }
   ],
   "source": [
    "model = ImageClassifier()\n",
    "model.compile(optimizer='adam',\n",
    "              loss=tf.keras.losses.SparseCategoricalCrossentropy(from_logits=True),\n",
    "              metrics=['accuracy'])\n",
    "model.build((None, IMG_HEIGHT, IMG_WIDTH, 3))"
   ]
  },
  {
   "cell_type": "code",
   "execution_count": 8,
   "metadata": {},
   "outputs": [
    {
     "name": "stdout",
     "output_type": "stream",
     "text": [
      "Model: \"image_classifier\"\n",
      "_________________________________________________________________\n",
      "Layer (type)                 Output Shape              Param #   \n",
      "=================================================================\n",
      "random_flip (RandomFlip)     multiple                  0         \n",
      "_________________________________________________________________\n",
      "random_rotation (RandomRotat multiple                  0         \n",
      "_________________________________________________________________\n",
      "random_zoom (RandomZoom)     multiple                  0         \n",
      "_________________________________________________________________\n",
      "rescaling (Rescaling)        multiple                  0         \n",
      "_________________________________________________________________\n",
      "conv2d (Conv2D)              multiple                  448       \n",
      "_________________________________________________________________\n",
      "conv2d_1 (Conv2D)            multiple                  4640      \n",
      "_________________________________________________________________\n",
      "conv2d_2 (Conv2D)            multiple                  18496     \n",
      "_________________________________________________________________\n",
      "max_pooling2d (MaxPooling2D) multiple                  0         \n",
      "_________________________________________________________________\n",
      "dropout (Dropout)            multiple                  0         \n",
      "_________________________________________________________________\n",
      "flatten (Flatten)            multiple                  0         \n",
      "_________________________________________________________________\n",
      "dense (Dense)                multiple                  3965056   \n",
      "_________________________________________________________________\n",
      "dense_1 (Dense)              multiple                  645       \n",
      "=================================================================\n",
      "Total params: 3,989,285\n",
      "Trainable params: 3,989,285\n",
      "Non-trainable params: 0\n",
      "_________________________________________________________________\n"
     ]
    }
   ],
   "source": [
    "model.summary()"
   ]
  },
  {
   "cell_type": "code",
   "execution_count": 9,
   "metadata": {},
   "outputs": [
    {
     "name": "stdout",
     "output_type": "stream",
     "text": [
      "Downloading data from https://storage.googleapis.com/download.tensorflow.org/example_images/flower_photos.tgz\n",
      "228818944/228813984 [==============================] - 15s 0us/step\n",
      "228827136/228813984 [==============================] - 15s 0us/step\n"
     ]
    }
   ],
   "source": [
    "path = download_dataset(\"https://storage.googleapis.com/download.tensorflow.org/example_images/flower_photos.tgz\", \"flower_photos\")"
   ]
  },
  {
   "cell_type": "code",
   "execution_count": 10,
   "metadata": {},
   "outputs": [
    {
     "data": {
      "text/plain": [
       "PosixPath('/home/morfi/.keras/datasets/flower_photos')"
      ]
     },
     "execution_count": 10,
     "metadata": {},
     "output_type": "execute_result"
    }
   ],
   "source": [
    "path"
   ]
  },
  {
   "cell_type": "code",
   "execution_count": 11,
   "metadata": {},
   "outputs": [
    {
     "name": "stdout",
     "output_type": "stream",
     "text": [
      "Found 3670 files belonging to 5 classes.\n",
      "Using 2936 files for training.\n",
      "Found 3670 files belonging to 5 classes.\n",
      "Using 734 files for validation.\n"
     ]
    }
   ],
   "source": [
    "train, validation = load_dataset(path)"
   ]
  },
  {
   "cell_type": "code",
   "execution_count": 12,
   "metadata": {},
   "outputs": [
    {
     "name": "stdout",
     "output_type": "stream",
     "text": [
      "Epoch 1/10\n"
     ]
    },
    {
     "name": "stderr",
     "output_type": "stream",
     "text": [
      "2021-09-15 19:32:58.539610: I tensorflow/compiler/mlir/mlir_graph_optimization_pass.cc:185] None of the MLIR Optimization Passes are enabled (registered 2)\n"
     ]
    },
    {
     "name": "stdout",
     "output_type": "stream",
     "text": [
      "92/92 [==============================] - 36s 366ms/step - loss: 1.3322 - accuracy: 0.4244 - val_loss: 1.2601 - val_accuracy: 0.4782\n",
      "Epoch 2/10\n",
      "92/92 [==============================] - 30s 328ms/step - loss: 1.0599 - accuracy: 0.5817 - val_loss: 1.0637 - val_accuracy: 0.5872\n",
      "Epoch 3/10\n",
      "92/92 [==============================] - 32s 348ms/step - loss: 0.9516 - accuracy: 0.6376 - val_loss: 0.8945 - val_accuracy: 0.6594\n",
      "Epoch 4/10\n",
      "92/92 [==============================] - 30s 325ms/step - loss: 0.8577 - accuracy: 0.6659 - val_loss: 0.8463 - val_accuracy: 0.6853\n",
      "Epoch 5/10\n",
      "92/92 [==============================] - 30s 329ms/step - loss: 0.7869 - accuracy: 0.7088 - val_loss: 0.8632 - val_accuracy: 0.6717\n",
      "Epoch 6/10\n",
      "92/92 [==============================] - 29s 311ms/step - loss: 0.7657 - accuracy: 0.7040 - val_loss: 0.7677 - val_accuracy: 0.7030\n",
      "Epoch 7/10\n",
      "92/92 [==============================] - 25s 269ms/step - loss: 0.7191 - accuracy: 0.7289 - val_loss: 0.7640 - val_accuracy: 0.7153\n",
      "Epoch 8/10\n",
      "92/92 [==============================] - 25s 269ms/step - loss: 0.6770 - accuracy: 0.7388 - val_loss: 0.7599 - val_accuracy: 0.7139\n",
      "Epoch 9/10\n",
      "92/92 [==============================] - 25s 271ms/step - loss: 0.6647 - accuracy: 0.7520 - val_loss: 0.8097 - val_accuracy: 0.7057\n",
      "Epoch 10/10\n",
      "92/92 [==============================] - 25s 272ms/step - loss: 0.6147 - accuracy: 0.7681 - val_loss: 0.7054 - val_accuracy: 0.7262\n"
     ]
    }
   ],
   "source": [
    "history = model.fit(\n",
    "    train,\n",
    "    validation_data = validation,\n",
    "    epochs = EPOCHS\n",
    ")"
   ]
  },
  {
   "cell_type": "code",
   "execution_count": 13,
   "metadata": {},
   "outputs": [
    {
     "data": {
      "image/png": "[encoded data removed]",
      "text/plain": [
       "<Figure size 576x576 with 2 Axes>"
      ]
     },
     "metadata": {
      "needs_background": "light"
     },
     "output_type": "display_data"
    }
   ],
   "source": [
    "acc = history.history['accuracy']\n",
    "val_acc = history.history['val_accuracy']\n",
    "\n",
    "loss = history.history['loss']\n",
    "val_loss = history.history['val_loss']\n",
    "\n",
    "epochs_range = range(EPOCHS)\n",
    "\n",
    "plt.figure(figsize=(8, 8))\n",
    "plt.subplot(1, 2, 1)\n",
    "plt.plot(epochs_range, acc, label='Training Accuracy')\n",
    "plt.plot(epochs_range, val_acc, label='Validation Accuracy')\n",
    "plt.legend(loc='lower right')\n",
    "plt.title('Training and Validation Accuracy')\n",
    "\n",
    "plt.subplot(1, 2, 2)\n",
    "plt.plot(epochs_range, loss, label='Training Loss')\n",
    "plt.plot(epochs_range, val_loss, label='Validation Loss')\n",
    "plt.legend(loc='upper right')\n",
    "plt.title('Training and Validation Loss')\n",
    "plt.show()"
   ]
  },
  {
   "cell_type": "code",
   "execution_count": 14,
   "metadata": {},
   "outputs": [
    {
     "name": "stdout",
     "output_type": "stream",
     "text": [
      "Downloading data from https://storage.googleapis.com/download.tensorflow.org/example_images/592px-Red_sunflower.jpg\n",
      "122880/117948 [===============================] - 0s 1us/step\n",
      "131072/117948 [=================================] - 0s 1us/step\n",
      "This image most likely belongs to sunflowers with a 89.27 percent confidence.\n"
     ]
    }
   ],
   "source": [
    "sunflower_url = \"https://storage.googleapis.com/download.tensorflow.org/example_images/592px-Red_sunflower.jpg\"\n",
    "sunflower_path = tf.keras.utils.get_file('Red_sunflower', origin=sunflower_url)\n",
    "\n",
    "img = keras.preprocessing.image.load_img(\n",
    "    sunflower_path, target_size=(IMG_HEIGHT, IMG_WIDTH)\n",
    ")\n",
    "img_array = keras.preprocessing.image.img_to_array(img)\n",
    "img_array = tf.expand_dims(img_array, 0) # Create a batch\n",
    "\n",
    "predictions = model.predict(img_array)\n",
    "score = tf.nn.softmax(predictions[0])\n",
    "class_names = ['daisy', 'dandelion', 'roses', 'sunflowers', 'tulips']\n",
    "print(\n",
    "    \"This image most likely belongs to {} with a {:.2f} percent confidence.\"\n",
    "    .format(class_names[np.argmax(score)], 100 * np.max(score))\n",
    ")"
   ]
  },
  {
   "cell_type": "code",
   "execution_count": 17,
   "metadata": {},
   "outputs": [
    {
     "name": "stdout",
     "output_type": "stream",
     "text": [
      "INFO:tensorflow:Assets written to: flowers/1/assets\n"
     ]
    }
   ],
   "source": [
    "model_save_path = \"flowers/1/\"\n",
    "tf.saved_model.save(model, \"flowers/1/\")"
   ]
  },
  {
   "cell_type": "code",
   "execution_count": 18,
   "metadata": {},
   "outputs": [
    {
     "name": "stdout",
     "output_type": "stream",
     "text": [
      "['serving_default']\n"
     ]
    }
   ],
   "source": [
    "load_model = tf.saved_model.load(model_save_path)\n",
    "print(list(load_model.signatures.keys()))"
   ]
  },
  {
   "cell_type": "code",
   "execution_count": 19,
   "metadata": {},
   "outputs": [],
   "source": [
    "infer = load_model.signatures['serving_default']"
   ]
  },
  {
   "cell_type": "code",
   "execution_count": 20,
   "metadata": {},
   "outputs": [],
   "source": [
    "predictions = model.predict(img_array)\n",
    "score = tf.nn.softmax(predictions[0])"
   ]
  },
  {
   "cell_type": "code",
   "execution_count": 21,
   "metadata": {},
   "outputs": [
    {
     "data": {
      "text/plain": [
       "'sunflowers'"
      ]
     },
     "execution_count": 21,
     "metadata": {},
     "output_type": "execute_result"
    }
   ],
   "source": [
    "class_names[np.argmax(score)]"
   ]
  }
 ],
 "metadata": {
  "kernelspec": {
   "display_name": "Python 3",
   "language": "python",
   "name": "python3"
  },
  "language_info": {
   "codemirror_mode": {
    "name": "ipython",
    "version": 3
   },
   "file_extension": ".py",
   "mimetype": "text/x-python",
   "name": "python",
   "nbconvert_exporter": "python",
   "pygments_lexer": "ipython3",
   "version": "3.8.10"
  }
 },
 "nbformat": 4,
 "nbformat_minor": 4
}
