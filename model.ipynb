{
 "cells": [
  {
   "cell_type": "code",
   "execution_count": null,
   "metadata": {},
   "outputs": [],
   "source": [
    "import matplotlib.pyplot as plt\n",
    "import numpy as np\n",
    "import os\n",
    "import PIL\n",
    "import tensorflow as tf\n",
    "\n",
    "from tensorflow import keras\n",
    "from tensorflow.keras import layers\n",
    "from tensorflow.keras.models import Sequential\n",
    "import pathlib"
   ]
  },
  {
   "cell_type": "code",
   "execution_count": null,
   "metadata": {},
   "outputs": [],
   "source": [
    "BATCH_SIZE = 32\n",
    "IMG_HEIGHT = 180\n",
    "IMG_WIDTH = 180\n",
    "SPLIT = 0.2\n",
    "CLASS_NUMBER = 5\n",
    "EPOCHS = 10"
   ]
  },
  {
   "cell_type": "code",
   "execution_count": null,
   "metadata": {},
   "outputs": [],
   "source": [
    "def download_dataset(url, dir_name):\n",
    "    data_dir = tf.keras.utils.get_file(dir_name, origin=url, untar=True)\n",
    "    return pathlib.Path(data_dir)"
   ]
  },
  {
   "cell_type": "code",
   "execution_count": null,
   "metadata": {},
   "outputs": [],
   "source": [
    "def load_dataset(path):\n",
    "    AUTOTUNE = tf.data.experimental.AUTOTUNE\n",
    "    \n",
    "    train = tf.keras.preprocessing.image_dataset_from_directory(\n",
    "        path,\n",
    "        validation_split = SPLIT,\n",
    "        subset = 'training',\n",
    "        seed = 123,\n",
    "        image_size = (IMG_HEIGHT, IMG_WIDTH),\n",
    "        batch_size = BATCH_SIZE\n",
    "    )\n",
    "    \n",
    "    validation = tf.keras.preprocessing.image_dataset_from_directory(\n",
    "        path,\n",
    "        validation_split = SPLIT,\n",
    "        subset = 'validation',\n",
    "        seed = 123,\n",
    "        image_size = (IMG_HEIGHT, IMG_WIDTH),\n",
    "        batch_size = BATCH_SIZE\n",
    "    )\n",
    "    \n",
    "    train = train.cache().shuffle(1000).prefetch(buffer_size = AUTOTUNE)\n",
    "    validation = validation.cache().prefetch(buffer_size = AUTOTUNE)\n",
    "    \n",
    "    return train, validation"
   ]
  },
  {
   "cell_type": "code",
   "execution_count": null,
   "metadata": {},
   "outputs": [],
   "source": [
    "def normalization(train_dataset):\n",
    "    normalization_layer = layers.experimental.preprocessing.Rescaling(1. / 255)\n",
    "    normalized_dataset = train_dataset.map(lambda x, y: (normalization_layer(x), y))\n",
    "    image_batch, labels_batch = next(iter(normalized_dataset))\n",
    "    \n",
    "    return image_batch, labels_batch"
   ]
  },
  {
   "cell_type": "code",
   "execution_count": null,
   "metadata": {},
   "outputs": [],
   "source": [
    "class ImageClassifier(tf.keras.Model):\n",
    "    def __init__(self, num_classes = CLASS_NUMBER, units = 128, padding = 'same', activation = 'relu', flip = 'horizontal', rotation = 0.1, zoom = 0.1, dropout = 0.2):\n",
    "        super(ImageClassifier, self).__init__()\n",
    "        self.random_flip = layers.experimental.preprocessing.RandomFlip(flip,\n",
    "                                                                       input_shape = (IMG_HEIGHT, \n",
    "                                                                                      IMG_WIDTH, \n",
    "                                                                                      3))\n",
    "        self.random_rotation = layers.experimental.preprocessing.RandomRotation(rotation)\n",
    "        self.random_zoom = layers.experimental.preprocessing.RandomZoom(zoom)\n",
    "        self.normalization = layers.experimental.preprocessing.Rescaling(1. / 255, input_shape = (IMG_HEIGHT, IMG_WIDTH, 3))\n",
    "        self.conv2d_1 = layers.Conv2D(16, 3, padding = padding, activation = activation)\n",
    "        self.conv2d_2 = layers.Conv2D(32, 3, padding = padding, activation = activation)\n",
    "        self.conv2d_3 = layers.Conv2D(64, 3, padding = padding, activation = activation)\n",
    "        self.max_pooling2d = layers.MaxPooling2D()\n",
    "        self.dropout = layers.Dropout(dropout)\n",
    "        self.flatten = layers.Flatten()\n",
    "        self.dense_1 = layers.Dense(units, activation = activation)\n",
    "        self.dense_2 = layers.Dense(num_classes)\n",
    "        \n",
    "    def call(self, inputs, training = False):\n",
    "        x = self.random_flip(inputs)\n",
    "        x = self.random_rotation(x)\n",
    "        x = self.random_zoom(x)\n",
    "        x = self.normalization(x)\n",
    "        x = self.conv2d_1(x)\n",
    "        x = self.max_pooling2d(x)\n",
    "        x = self.conv2d_2(x)\n",
    "        x = self.max_pooling2d(x)\n",
    "        x = self.conv2d_3(x)\n",
    "        x = self.max_pooling2d(x)\n",
    "        x = self.dropout(x, training = training)\n",
    "        x = self.flatten(x)\n",
    "        x = self.dense_1(x)\n",
    "        output = self.dense_2(x)\n",
    "        \n",
    "        return output"
   ]
  },
  {
   "cell_type": "code",
   "execution_count": null,
   "metadata": {},
   "outputs": [],
   "source": [
    "model = ImageClassifier()\n",
    "model.compile(optimizer='adam',\n",
    "              loss=tf.keras.losses.SparseCategoricalCrossentropy(from_logits=True),\n",
    "              metrics=['accuracy'])\n",
    "model.build((None, IMG_HEIGHT, IMG_WIDTH, 3))"
   ]
  },
  {
   "cell_type": "code",
   "execution_count": null,
   "metadata": {},
   "outputs": [],
   "source": [
    "model.summary()"
   ]
  },
  {
   "cell_type": "code",
   "execution_count": null,
   "metadata": {},
   "outputs": [],
   "source": [
    "path = download_dataset(\"https://storage.googleapis.com/download.tensorflow.org/example_images/flower_photos.tgz\", \"\"flowers/1/\"\")"
   ]
  },
  {
   "cell_type": "code",
   "execution_count": null,
   "metadata": {},
   "outputs": [],
   "source": [
    "path"
   ]
  },
  {
   "cell_type": "code",
   "execution_count": null,
   "metadata": {},
   "outputs": [],
   "source": [
    "train, validation = load_dataset(path)"
   ]
  },
  {
   "cell_type": "code",
   "execution_count": null,
   "metadata": {},
   "outputs": [],
   "source": [
    "history = model.fit(\n",
    "    train,\n",
    "    validation_data = validation,\n",
    "    epochs = EPOCHS\n",
    ")"
   ]
  },
  {
   "cell_type": "code",
   "execution_count": null,
   "metadata": {},
   "outputs": [],
   "source": [
    "acc = history.history['accuracy']\n",
    "val_acc = history.history['val_accuracy']\n",
    "\n",
    "loss = history.history['loss']\n",
    "val_loss = history.history['val_loss']\n",
    "\n",
    "epochs_range = range(EPOCHS)\n",
    "\n",
    "plt.figure(figsize=(8, 8))\n",
    "plt.subplot(1, 2, 1)\n",
    "plt.plot(epochs_range, acc, label='Training Accuracy')\n",
    "plt.plot(epochs_range, val_acc, label='Validation Accuracy')\n",
    "plt.legend(loc='lower right')\n",
    "plt.title('Training and Validation Accuracy')\n",
    "\n",
    "plt.subplot(1, 2, 2)\n",
    "plt.plot(epochs_range, loss, label='Training Loss')\n",
    "plt.plot(epochs_range, val_loss, label='Validation Loss')\n",
    "plt.legend(loc='upper right')\n",
    "plt.title('Training and Validation Loss')\n",
    "plt.show()"
   ]
  },
  {
   "cell_type": "code",
   "execution_count": null,
   "metadata": {},
   "outputs": [],
   "source": [
    "sunflower_url = \"https://storage.googleapis.com/download.tensorflow.org/example_images/592px-Red_sunflower.jpg\"\n",
    "sunflower_path = tf.keras.utils.get_file('Red_sunflower', origin=sunflower_url)\n",
    "\n",
    "img = keras.preprocessing.image.load_img(\n",
    "    sunflower_path, target_size=(IMG_HEIGHT, IMG_WIDTH)\n",
    ")\n",
    "img_array = keras.preprocessing.image.img_to_array(img)\n",
    "img_array = tf.expand_dims(img_array, 0) # Create a batch\n",
    "\n",
    "predictions = model.predict(img_array)\n",
    "score = tf.nn.softmax(predictions[0])\n",
    "class_names = ['daisy', 'dandelion', 'roses', 'sunflowers', 'tulips']\n",
    "print(\n",
    "    \"This image most likely belongs to {} with a {:.2f} percent confidence.\"\n",
    "    .format(class_names[np.argmax(score)], 100 * np.max(score))\n",
    ")"
   ]
  },
  {
   "cell_type": "code",
   "execution_count": null,
   "metadata": {},
   "outputs": [],
   "source": [
    "tf.saved_model.save(model, \"flowers/1/\")"
   ]
  },
  {
   "cell_type": "code",
   "execution_count": null,
   "metadata": {},
   "outputs": [],
   "source": [
    "load_model = tf.saved_model.load(model_save_path)\n",
    "print(list(load_model.signatures.keys()))"
   ]
  },
  {
   "cell_type": "code",
   "execution_count": null,
   "metadata": {},
   "outputs": [],
   "source": [
    "infer = load_model.signatures['serving_default']"
   ]
  },
  {
   "cell_type": "code",
   "execution_count": null,
   "metadata": {},
   "outputs": [],
   "source": [
    "predictions = model.predict(img_array)\n",
    "score = tf.nn.softmax(predictions[0])"
   ]
  },
  {
   "cell_type": "code",
   "execution_count": null,
   "metadata": {},
   "outputs": [],
   "source": [
    "class_names[np.argmax(score)]"
   ]
  }
 ],
 "metadata": {
  "kernelspec": {
   "name": "Python 3.6.9 64-bit ('env')",
   "display_name": "Python 3.6.9 64-bit ('env')",
   "metadata": {
    "interpreter": {
     "hash": "a3a2ddb75ae5b7068ad212df446bf22b0d6cf86d88894c40af0c3deed8ed53f8"
    }
   }
  },
  "language_info": {
   "codemirror_mode": {
    "name": "ipython",
    "version": 3
   },
   "file_extension": ".py",
   "mimetype": "text/x-python",
   "name": "python",
   "nbconvert_exporter": "python",
   "pygments_lexer": "ipython3",
   "version": "3.6.9-final"
  }
 },
 "nbformat": 4,
 "nbformat_minor": 4
}